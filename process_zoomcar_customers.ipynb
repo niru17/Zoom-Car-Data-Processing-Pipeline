{
 "cells": [
  {
   "cell_type": "code",
   "execution_count": 0,
   "metadata": {
    "application/vnd.databricks.v1+cell": {
     "cellMetadata": {
      "byteLimit": 2048000,
      "rowLimit": 10000
     },
     "inputWidgets": {},
     "nuid": "5a0edaac-cc16-4aca-abe0-fcdcbfee88a6",
     "showTitle": false,
     "tableResultSettingsMap": {},
     "title": ""
    }
   },
   "outputs": [],
   "source": [
    "from pyspark.sql.functions import sum, col,to_date,rlike,regexp_replace,date_format,date_diff,lit\n",
    "import pandas as pd\n",
    "import os\n",
    "\n",
    "date_str=dbutils.widgets.get(\"arrival_date\")\n",
    "ref_date = to_date(lit(date_str), \"yyyyMMdd\")\n",
    "customers_df = spark.read.format(\"json\").load(f\"/Volumes/zoom_car/default/data/customers/zoom_car_customers_{date_str}.json\")\n",
    "customers_df.printSchema()\n",
    "display(customers_df)"
   ]
  },
  {
   "cell_type": "code",
   "execution_count": 0,
   "metadata": {
    "application/vnd.databricks.v1+cell": {
     "cellMetadata": {
      "byteLimit": 2048000,
      "rowLimit": 10000
     },
     "inputWidgets": {},
     "nuid": "909b6556-2dbb-4c4e-b483-e2d18262d05c",
     "showTitle": false,
     "tableResultSettingsMap": {},
     "title": ""
    }
   },
   "outputs": [],
   "source": [
    "#Data Cleaning\n",
    "critical_fields=['customer_id','name','email']\n",
    "valid_status=['active','inactive']\n",
    "email_regex= r'^[A-Za-z0-9]+@[A-Za-z]+\\.[A-Za-z]{2,}$'\n",
    "\n",
    "customers_cleaned=customers_df.dropna(subset=critical_fields)\\\n",
    "                            .filter(col(\"status\").isin(valid_status))\\\n",
    "                            .filter(col(\"email\").rlike(email_regex))\n",
    "\n",
    "customers_transformed=customers_cleaned.withColumn(\"phone_digits\",regexp_replace(\"phone_number\",r\"\\D\",\"\"))\\\n",
    "    .withColumn(\"customer_tenure\",date_diff(ref_date,col(\"signup_date\")))\n",
    "customers_transformed.write.format(\"delta\").mode(\"overwrite\").option(\"overwriteSchema\",\"true\").saveAsTable(\"zoom_car.default.staging_customers_delta\")\n",
    "print(\"Table created\")\n",
    "display(customers_transformed)"
   ]
  }
 ],
 "metadata": {
  "application/vnd.databricks.v1+notebook": {
   "computePreferences": null,
   "dashboards": [],
   "environmentMetadata": {
    "base_environment": "",
    "environment_version": "2"
   },
   "inputWidgetPreferences": null,
   "language": "python",
   "notebookMetadata": {
    "pythonIndentUnit": 4
   },
   "notebookName": "process_zoomcar_customers",
   "widgets": {}
  },
  "language_info": {
   "name": "python"
  }
 },
 "nbformat": 4,
 "nbformat_minor": 0
}
