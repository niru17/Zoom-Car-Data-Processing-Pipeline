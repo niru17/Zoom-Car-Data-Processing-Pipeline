{
 "cells": [
  {
   "cell_type": "code",
   "execution_count": 0,
   "metadata": {
    "application/vnd.databricks.v1+cell": {
     "cellMetadata": {
      "byteLimit": 2048000,
      "rowLimit": 10000
     },
     "inputWidgets": {},
     "nuid": "6fec0dc6-dd51-4ba8-acdd-fde58d65d15c",
     "showTitle": false,
     "tableResultSettingsMap": {},
     "title": ""
    }
   },
   "outputs": [],
   "source": [
    "\n",
    "from delta.tables import DeltaTable\n",
    "\n",
    "stage_bookings=spark.table(\"zoom_car.default.staging_bookings_delta\")\n",
    "stage_customers=spark.table(\"zoom_car.default.staging_customers_delta\")\n",
    "target_bookings=\"zoom_car.default.target_bookings_delta\"\n",
    "target_customers=\"zoom_car.default.target_customers_delta\"\n",
    "\n",
    "table_b=spark._jsparkSession.catalog().tableExists(target_bookings)\n",
    "table_c=spark._jsparkSession.catalog().tableExists(target_customers)\n",
    "\n",
    "if table_b:\n",
    "    merged_bookings=DeltaTable.forName(spark,target_bookings)\n",
    "    merged_bookings.alias(\"target\")\\\n",
    "    .merge(stage_bookings.alias(\"updates\"),\n",
    "    \"target.booking_id=updates.booking_id\")\\\n",
    "    .whenMatchedDelete(condition=\"updates.status = 'cancelled'\") \\\n",
    "    .whenMatchedUpdateAll(condition=\"updates.status != 'cancelled'\")\\\n",
    "    .whenNotMatchedInsertAll().execute()\n",
    "else:\n",
    "    stage_bookings.write.format(\"delta\").option(\"overwriteSchema\",\"true\").saveAsTable(target_bookings)\n",
    "\n",
    "if table_c:\n",
    "    merged_customers=DeltaTable.forName(spark,target_customers)\n",
    "    merged_customers.alias(\"target\")\\\n",
    "    .merge(stage_customers.alias(\"updates\"),\n",
    "    \"target.customer_id=updates.customer_id\")\\\n",
    "    .whenMatchedUpdateAll()\\\n",
    "    .whenNotMatchedInsertAll().execute()\n",
    "else:\n",
    "    stage_customers.write.format(\"delta\").option(\"overwriteSchema\",\"true\").saveAsTable(target_customers)\n",
    "#print(merged_bookings)\n",
    "\n",
    "\n",
    "\n",
    "\n"
   ]
  }
 ],
 "metadata": {
  "application/vnd.databricks.v1+notebook": {
   "computePreferences": null,
   "dashboards": [],
   "environmentMetadata": {
    "base_environment": "",
    "environment_version": "2"
   },
   "inputWidgetPreferences": null,
   "language": "python",
   "notebookMetadata": {
    "pythonIndentUnit": 4
   },
   "notebookName": "zoomcar_merge",
   "widgets": {}
  },
  "language_info": {
   "name": "python"
  }
 },
 "nbformat": 4,
 "nbformat_minor": 0
}
