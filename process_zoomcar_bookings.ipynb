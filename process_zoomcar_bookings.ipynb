{
 "cells": [
  {
   "cell_type": "code",
   "execution_count": 0,
   "metadata": {
    "application/vnd.databricks.v1+cell": {
     "cellMetadata": {
      "byteLimit": 2048000,
      "rowLimit": 10000
     },
     "inputWidgets": {},
     "nuid": "d78538ef-af1e-4c4f-ae37-4fdffead2ce7",
     "showTitle": false,
     "tableResultSettingsMap": {},
     "title": ""
    }
   },
   "outputs": [],
   "source": [
    "from pyspark.sql.functions import sum, col,to_date, date_format,unix_timestamp\n",
    "import pandas as pd\n",
    "import os\n",
    "\n",
    "date_str=dbutils.widgets.get(\"arrival_date\")\n",
    "bookings_df = spark.read.format(\"json\").load(f\"/Volumes/zoom_car/default/data/car_booking/zoom_car_bookings_{date_str}.json\")\n",
    "bookings_df.printSchema()\n",
    "display(bookings_df)"
   ]
  },
  {
   "cell_type": "code",
   "execution_count": 0,
   "metadata": {
    "application/vnd.databricks.v1+cell": {
     "cellMetadata": {
      "byteLimit": 2048000,
      "rowLimit": 10000
     },
     "inputWidgets": {},
     "nuid": "af53bcfb-c82f-43a1-95bc-0949e5b75062",
     "showTitle": false,
     "tableResultSettingsMap": {},
     "title": ""
    }
   },
   "outputs": [],
   "source": [
    "#Data Cleaning & Transformation\n",
    "\n",
    "critical_fields = ['booking_id', 'customer_id', 'car_id', 'booking_date']\n",
    "valid_status = ['cancelled', 'completed', 'pending']\n",
    "\n",
    "\n",
    "bookings_cleaned = bookings_df.dropna(subset=critical_fields)\\\n",
    "    .withColumn(\"booking_date\", to_date(\"booking_date\", \"yyyy-MM-dd\"))\\\n",
    "    .withColumn(\"start_time\", col(\"start_time\").cast(\"timestamp\"))\\\n",
    "    .withColumn(\"end_time\", col(\"end_time\").cast(\"timestamp\"))\\\n",
    "    .filter(col(\"booking_date\").isNotNull())\\\n",
    "    .filter(col(\"start_time\").isNotNull())\\\n",
    "    .filter(col(\"end_time\").isNotNull())\\\n",
    "    .filter(col(\"status\").isin(valid_status))\n",
    "\n",
    "bookings_transformed = bookings_cleaned \\\n",
    "    .withColumn(\"start_date\", to_date(\"start_time\")) \\\n",
    "    .withColumn(\"end_date\", to_date(\"end_time\")) \\\n",
    "    .withColumn(\"start_time_only\", date_format(\"start_time\", \"HH:mm:ss\")) \\\n",
    "    .withColumn(\"end_time_only\", date_format(\"end_time\", \"HH:mm:ss\")) \\\n",
    "    .withColumn(\"total_duration\", (unix_timestamp(\"end_time\") - unix_timestamp(\"start_time\")) / 60)\n",
    "\n",
    "bookings_transformed.write.format(\"delta\").mode(\"overwrite\").option(\"overwriteSchema\",\"true\").saveAsTable(\"zoom_car.default.staging_bookings_delta\")\n",
    "                            \n",
    "print(\"Table created successfully!\")\n",
    "display(bookings_transformed)\n"
   ]
  }
 ],
 "metadata": {
  "application/vnd.databricks.v1+notebook": {
   "computePreferences": null,
   "dashboards": [],
   "environmentMetadata": {
    "base_environment": "",
    "environment_version": "2"
   },
   "inputWidgetPreferences": null,
   "language": "python",
   "notebookMetadata": {
    "pythonIndentUnit": 4
   },
   "notebookName": "process_zoomcar_bookings",
   "widgets": {}
  },
  "language_info": {
   "name": "python"
  }
 },
 "nbformat": 4,
 "nbformat_minor": 0
}
